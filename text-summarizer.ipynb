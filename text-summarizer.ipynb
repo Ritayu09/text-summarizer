{
 "cells": [
  {
   "cell_type": "markdown",
   "metadata": {},
   "source": [
    "\n",
    "### Project Description:\n",
    "\n",
    "This dataset consists of reviews of fine foods from amazon downloaded from Kaggle. The data span a period of more than 10 years, including all ~500,000 reviews up to October 2012. Reviews include product and user information, ratings, and a plain text review. It also includes reviews from all other Amazon categories.   \n",
    "\n",
    "[Data Link](https://www.kaggle.com/snap/amazon-fine-food-reviews)\n",
    "\n",
    "The dataset includes text review and a short summary for the same and we will use this information to build Text Summarization model using RNN with LSTM layers along with Global Attention Mechanism\n"
   ]
  },
  {
   "cell_type": "code",
   "execution_count": 1,
   "metadata": {},
   "outputs": [
    {
     "name": "stderr",
     "output_type": "stream",
     "text": [
      "Using TensorFlow backend.\n"
     ]
    }
   ],
   "source": [
    "# importing necessary libraries\n",
    "\n",
    "import numpy as np  \n",
    "import pandas as pd \n",
    "import pickle\n",
    "import re           \n",
    "from bs4 import BeautifulSoup \n",
    "from keras.preprocessing.text import Tokenizer \n",
    "from keras.preprocessing.sequence import pad_sequences\n",
    "from nltk.corpus import stopwords   \n",
    "from tensorflow.keras.layers import Input, LSTM, Embedding, Dense, Concatenate, TimeDistributed\n",
    "from tensorflow.keras.models import Model\n",
    "from tensorflow.keras.callbacks import EarlyStopping, ModelCheckpoint, ReduceLROnPlateau\n",
    "from keras import backend as K \n",
    "from sklearn.model_selection import train_test_split\n",
    "import matplotlib.pyplot as plt\n",
    "# used attention layer implementation from: https://github.com/thushv89/attention_keras/blob/master/layers/attention.py\n",
    "from attention import AttentionLayer\n"
   ]
  },
  {
   "cell_type": "markdown",
   "metadata": {},
   "source": [
    "Loading data annd removing duplicates and empty rows:"
   ]
  },
  {
   "cell_type": "code",
   "execution_count": 2,
   "metadata": {},
   "outputs": [],
   "source": [
    "dat_dir = '/Users/ritayu/Downloads/amazon-fine-food-reviews/'\n",
    "\n",
    "# loading dataset - around 0.5 million records\n",
    "reviews_data = pd.read_csv(dat_dir+ 'Reviews.csv')\n",
    "\n",
    "# dropping all duplicates of 'Text' in reviews_data\n",
    "reviews_data.drop_duplicates(subset=['Text'],inplace=True)\n",
    "# dropping all rows with na\n",
    "reviews_data.dropna(axis=0,inplace=True)"
   ]
  },
  {
   "cell_type": "markdown",
   "metadata": {},
   "source": [
    "Looking at 5 top rows of data to have an idea about the text and its summary:"
   ]
  },
  {
   "cell_type": "code",
   "execution_count": 3,
   "metadata": {},
   "outputs": [
    {
     "name": "stdout",
     "output_type": "stream",
     "text": [
      "I have bought several of the Vitality canned dog food products and have found them all to be of good quality. The product looks more like a stew than a processed meat and it smells better. My Labrador is finicky and she appreciates this product better than  most.\n",
      "\n",
      "\n",
      "Product arrived labeled as Jumbo Salted Peanuts...the peanuts were actually small sized unsalted. Not sure if this was an error or if the vendor intended to represent the product as \"Jumbo\".\n",
      "\n",
      "\n",
      "This is a confection that has been around a few centuries.  It is a light, pillowy citrus gelatin with nuts - in this case Filberts. And it is cut into tiny squares and then liberally coated with powdered sugar.  And it is a tiny mouthful of heaven.  Not too chewy, and very flavorful.  I highly recommend this yummy treat.  If you are familiar with the story of C.S. Lewis' \"The Lion, The Witch, and The Wardrobe\" - this is the treat that seduces Edmund into selling out his Brother and Sisters to the Witch.\n",
      "\n",
      "\n",
      "If you are looking for the secret ingredient in Robitussin I believe I have found it.  I got this in addition to the Root Beer Extract I ordered (which was good) and made some cherry soda.  The flavor is very medicinal.\n",
      "\n",
      "\n",
      "Great taffy at a great price.  There was a wide assortment of yummy taffy.  Delivery was very quick.  If your a taffy lover, this is a deal.\n",
      "\n",
      "\n"
     ]
    }
   ],
   "source": [
    "for txt in reviews_data['Text'].head():\n",
    "    print(txt)\n",
    "    print('\\n')"
   ]
  },
  {
   "cell_type": "code",
   "execution_count": 4,
   "metadata": {},
   "outputs": [
    {
     "data": {
      "text/plain": [
       "0    Good Quality Dog Food\n",
       "1        Not as Advertised\n",
       "2    \"Delight\" says it all\n",
       "3           Cough Medicine\n",
       "4              Great taffy\n",
       "Name: Summary, dtype: object"
      ]
     },
     "execution_count": 4,
     "metadata": {},
     "output_type": "execute_result"
    }
   ],
   "source": [
    "reviews_data['Summary'].head()"
   ]
  },
  {
   "cell_type": "markdown",
   "metadata": {},
   "source": [
    "Preprocessing and Cleaning the data:"
   ]
  },
  {
   "cell_type": "code",
   "execution_count": 5,
   "metadata": {},
   "outputs": [],
   "source": [
    "# found abbrevations dictionary online and using it to clean text\n",
    "# saved the python dictionary available online in pickle format and loading it\n",
    "file_open = open(dat_dir+'abv_mapping.pkl','rb')\n",
    "abv_mapping = pickle.load(file_open)\n",
    "file_open.close()\n",
    "\n",
    "# creating a text cleaning function\n",
    "# importing english stopwords from NLTK corpus\n",
    "stop_words = set(stopwords.words('english')) \n",
    "def text_cleaner(text):\n",
    "    # lower the string\n",
    "    updated_string = text.lower()\n",
    "    # using BeautifulSoup ti identify html tags and removing the tags\n",
    "    updated_string = BeautifulSoup(updated_string, \"lxml\").text\n",
    "    # removing text inside parenthesis\n",
    "    updated_string = re.sub(r'\\([^)]*\\)', '', updated_string)\n",
    "    # removing quotes from text\n",
    "    updated_string = re.sub('\"','', updated_string)\n",
    "    # treating abbrevations with the mapping\n",
    "    updated_string = ' '.join([abv_mapping[t] if t in abv_mapping else t for t in updated_string.split(\" \")])   \n",
    "    # removing apostrophe s\n",
    "    updated_string = re.sub(r\"'s\\b\",\"\",updated_string)\n",
    "    # removing numbers and other punctuations and special characters\n",
    "    updated_string = re.sub(\"[^a-zA-Z]\", \" \", updated_string) \n",
    "    # removing stop words from text\n",
    "    tokens = [w for w in updated_string.split() if not w in stop_words]\n",
    "    # 1 or 2 letter words usually dont carry any meaning and removing them from text\n",
    "    long_words=[]\n",
    "    for i in tokens:\n",
    "        if len(i)>=3:                  #removing short word\n",
    "            long_words.append(i)   \n",
    "    return (\" \".join(long_words)).strip()\n",
    "\n",
    "# generating cleaned text\n",
    "cleaned_text = []\n",
    "for text in reviews_data['Text']:\n",
    "    cleaned_text.append(text_cleaner(text))\n",
    "\n",
    "# reviews_data preprocessing - 'Summary' Cleaning\n",
    "# creating similar cleaning function as text cleaner\n",
    "    \n",
    "def summary_cleaner(text):\n",
    "    # lower casing the string\n",
    "    updated_string = text.lower()\n",
    "    # removing quotes\n",
    "    updated_string = re.sub('\"','', text)\n",
    "    # mapping abbrevations\n",
    "    updated_string = ' '.join([abv_mapping[t] if t in abv_mapping else t for t in updated_string.split(\" \")])  \n",
    "    # removing 's from reviews_data\n",
    "    updated_string = re.sub(r\"'s\\b\",\"\",updated_string)\n",
    "    # removing numbers, special characters and other punctuations from reviews_data\n",
    "    updated_string = re.sub(\"[^a-zA-Z]\", \" \", updated_string)\n",
    "    # considering all words that are more than single alphabet for summary\n",
    "    tokens=updated_string.split()\n",
    "    updated_string=''\n",
    "    for i in tokens:\n",
    "        if len(i)>1:                                 \n",
    "            updated_string=updated_string+i+' '  \n",
    "    return updated_string\n",
    "\n",
    "# generating cleaned summary\n",
    "cleaned_summary = []\n",
    "for summary in reviews_data['Summary']:\n",
    "    cleaned_summary.append(summary_cleaner(summary))"
   ]
  },
  {
   "cell_type": "code",
   "execution_count": 6,
   "metadata": {},
   "outputs": [],
   "source": [
    "# updating reviews_data\n",
    "reviews_data['cleaned_text']=cleaned_text\n",
    "reviews_data['cleaned_summary']=cleaned_summary\n",
    "reviews_data['cleaned_summary'].replace('', np.nan, inplace=True)\n",
    "# removing entries where\n",
    "reviews_data.dropna(axis=0,inplace=True)"
   ]
  },
  {
   "cell_type": "markdown",
   "metadata": {},
   "source": [
    "Adding a START and END token to the summary to help model understand the starting word and the end of summary"
   ]
  },
  {
   "cell_type": "code",
   "execution_count": 7,
   "metadata": {},
   "outputs": [
    {
     "name": "stdout",
     "output_type": "stream",
     "text": [
      "Review:  bought several vitality canned dog food products found good quality product looks like stew processed meat smells better labrador finicky appreciates product better\n",
      "Summary:  _START_ Good Quality Dog Food  _END_\n",
      "\n",
      "\n",
      "Review:  product arrived labeled jumbo salted peanuts peanuts actually small sized unsalted sure error vendor intended represent product jumbo\n",
      "Summary:  _START_ Not as Advertised  _END_\n",
      "\n",
      "\n",
      "Review:  confection around centuries light pillowy citrus gelatin nuts case filberts cut tiny squares liberally coated powdered sugar tiny mouthful heaven chewy flavorful highly recommend yummy treat familiar story lewis lion witch wardrobe treat seduces edmund selling brother sisters witch\n",
      "Summary:  _START_ Delight says it all  _END_\n",
      "\n",
      "\n",
      "Review:  looking secret ingredient robitussin believe found got addition root beer extract ordered made cherry soda flavor medicinal\n",
      "Summary:  _START_ Cough Medicine  _END_\n",
      "\n",
      "\n",
      "Review:  great taffy great price wide assortment yummy taffy delivery quick taffy lover deal\n",
      "Summary:  _START_ Great taffy  _END_\n",
      "\n",
      "\n"
     ]
    }
   ],
   "source": [
    "# we will add <start> and <end> tokens to the summary for RNN to understand starting and end of summary while training\n",
    "reviews_data['cleaned_summary'] = reviews_data['cleaned_summary'].apply(lambda x : '_START_ '+ x + ' _END_')\n",
    "\n",
    "# taking look at cleaned text and summary\n",
    "for i in range(5):\n",
    "    print(\"Review: \",reviews_data['cleaned_text'][i])\n",
    "    print(\"Summary: \",reviews_data['cleaned_summary'][i])\n",
    "    print(\"\\n\")"
   ]
  },
  {
   "cell_type": "markdown",
   "metadata": {},
   "source": [
    "Analyzing the length of text and the summary for various records in the data:"
   ]
  },
  {
   "cell_type": "code",
   "execution_count": 8,
   "metadata": {},
   "outputs": [
    {
     "data": {
      "image/png": "[encoded data removed]",
      "text/plain": [
       "<Figure size 432x288 with 2 Axes>"
      ]
     },
     "metadata": {
      "needs_background": "light"
     },
     "output_type": "display_data"
    }
   ],
   "source": [
    "# plotting the length of text and summary to understand the ideal lengths for the RNN model\n",
    "text_word_count = []\n",
    "summary_word_count = []\n",
    "\n",
    "# populate the lists with sentence lengths\n",
    "for i in reviews_data['cleaned_text']:\n",
    "      text_word_count.append(len(i.split()))\n",
    "\n",
    "for i in reviews_data['cleaned_summary']:\n",
    "      summary_word_count.append(len(i.split()))\n",
    "\n",
    "length_df = pd.DataFrame({'text':text_word_count, 'summary':summary_word_count})\n",
    "length_df.hist(bins = 30)\n",
    "plt.show()"
   ]
  },
  {
   "cell_type": "markdown",
   "metadata": {},
   "source": [
    "Majority of the summary seems to be 10 words long and majority of text seems to be 80-90 words long. We will use this information while building fixed length encoder-decorder network structure."
   ]
  },
  {
   "cell_type": "code",
   "execution_count": 9,
   "metadata": {},
   "outputs": [],
   "source": [
    "# saving the processed data file for uploading to google colab for training\n",
    "reviews_data.to_csv(dat_dir+'reviews.csv', index = False)"
   ]
  },
  {
   "cell_type": "code",
   "execution_count": 10,
   "metadata": {},
   "outputs": [],
   "source": [
    "max_len_text=80 \n",
    "max_len_summary=10\n",
    "\n",
    "# using sklearn to split reviews_data into training and testing\n",
    "x_train,x_val,y_train,y_val=train_test_split(reviews_data['cleaned_text'],reviews_data['cleaned_summary'],test_size=0.1,random_state=0,shuffle=True) "
   ]
  },
  {
   "cell_type": "markdown",
   "metadata": {},
   "source": [
    "Keras library incorporates modules for processing textual data. We will use these to prepare the fixed length data for the model."
   ]
  },
  {
   "cell_type": "code",
   "execution_count": 11,
   "metadata": {},
   "outputs": [],
   "source": [
    "# preparing a tokenizer for 'Text'\n",
    "x_tokenizer = Tokenizer()\n",
    "x_tokenizer.fit_on_texts(list(x_train))\n",
    "\n",
    "#convert text sequences into integer sequences\n",
    "x_train    =   x_tokenizer.texts_to_sequences(x_train) \n",
    "x_val   =   x_tokenizer.texts_to_sequences(x_val)\n",
    "\n",
    "#padding zero upto maximum length if length of text is small\n",
    "# padding with default trimming to 'pre' to make sure that the 'end' token is always in the reviews_data\n",
    "x_train    =   pad_sequences(x_train,  maxlen=max_len_text, padding='post') \n",
    "x_val   =   pad_sequences(x_val, maxlen=max_len_text, padding='post')\n",
    "\n",
    "# size of vocabolary + 1 to be feed into embedding layer\n",
    "x_vocab_size   =  len(x_tokenizer.word_index) +1 \n",
    "\n",
    "\n",
    "#preparing a tokenizer for 'Summary' on training reviews_data \n",
    "y_tokenizer = Tokenizer()\n",
    "y_tokenizer.fit_on_texts(list(y_train))\n",
    "\n",
    "#convert summary sequences into integer sequences\n",
    "y_train    =   y_tokenizer.texts_to_sequences(y_train) \n",
    "y_val   =   y_tokenizer.texts_to_sequences(y_val) \n",
    "\n",
    "#padding zero upto maximum length if length of summary is less than maximum length\n",
    "y_train    =   pad_sequences(y_train, maxlen=max_len_summary, padding='post')\n",
    "y_val   =   pad_sequences(y_val, maxlen=max_len_summary, padding='post')\n",
    "\n",
    "# size of vocabolary + 1 to be feed into embedding layer\n",
    "y_vocab_size  =   len(y_tokenizer.word_index) +1"
   ]
  },
  {
   "cell_type": "markdown",
   "metadata": {},
   "source": [
    "Building the Encoder-Decoder Neural Network architecture using LSTM layers along with Attention Layer to help the model learn which parts of text to give importance while predicting the next word of the summary. We will use 3 stacked LSTM layers for the Encoder and single layer LSTM along with Attention Layer followed by Dense layer in the Decoder.  \n",
    "\n",
    "Time Distributed Dense layer is used so that we can use apply the same dense layer for every time steps of a data point."
   ]
  },
  {
   "cell_type": "code",
   "execution_count": 12,
   "metadata": {
    "scrolled": false
   },
   "outputs": [
    {
     "name": "stdout",
     "output_type": "stream",
     "text": [
      "Model: \"model\"\n",
      "__________________________________________________________________________________________________\n",
      "Layer (type)                    Output Shape         Param #     Connected to                     \n",
      "==================================================================================================\n",
      "input_1 (InputLayer)            [(None, 80)]         0                                            \n",
      "__________________________________________________________________________________________________\n",
      "embedding (Embedding)           (None, 80, 300)      34403400    input_1[0][0]                    \n",
      "__________________________________________________________________________________________________\n",
      "lstm (LSTM)                     [(None, 80, 300), (N 721200      embedding[0][0]                  \n",
      "__________________________________________________________________________________________________\n",
      "input_2 (InputLayer)            [(None, None)]       0                                            \n",
      "__________________________________________________________________________________________________\n",
      "lstm_1 (LSTM)                   [(None, 80, 300), (N 721200      lstm[0][0]                       \n",
      "__________________________________________________________________________________________________\n",
      "embedding_1 (Embedding)         (None, None, 300)    9309000     input_2[0][0]                    \n",
      "__________________________________________________________________________________________________\n",
      "lstm_2 (LSTM)                   [(None, 80, 300), (N 721200      lstm_1[0][0]                     \n",
      "__________________________________________________________________________________________________\n",
      "lstm_3 (LSTM)                   [(None, None, 300),  721200      embedding_1[0][0]                \n",
      "                                                                 lstm_2[0][1]                     \n",
      "                                                                 lstm_2[0][2]                     \n",
      "__________________________________________________________________________________________________\n",
      "attention_layer (AttentionLayer ((None, None, 300),  180300      lstm_2[0][0]                     \n",
      "                                                                 lstm_3[0][0]                     \n",
      "__________________________________________________________________________________________________\n",
      "concat_layer (Concatenate)      (None, None, 600)    0           lstm_3[0][0]                     \n",
      "                                                                 attention_layer[0][0]            \n",
      "__________________________________________________________________________________________________\n",
      "time_distributed (TimeDistribut (None, None, 31030)  18649030    concat_layer[0][0]               \n",
      "==================================================================================================\n",
      "Total params: 65,426,530\n",
      "Trainable params: 65,426,530\n",
      "Non-trainable params: 0\n",
      "__________________________________________________________________________________________________\n"
     ]
    }
   ],
   "source": [
    "# using 300 dimension for the embedding layer and lstm layer, different models with different latent dimensions can be tried to fine tune the model\n",
    "embed_dim = 300\n",
    "lstm_dim = 300\n",
    "\n",
    "K.clear_session() \n",
    "\n",
    "# Encoder \n",
    "encoder_inputs = Input(shape=(max_len_text,)) \n",
    "# if more time permits, we can use glove or word2vec pre-trained embeddings as well and compare model efficiency\n",
    "encoder_embed = Embedding(x_vocab_size, embed_dim,trainable=True)(encoder_inputs) \n",
    "\n",
    "# implementing Unidirection LSTM, we can try Bidirectional LSTM for improving model accuracy if time permits\n",
    "#LSTM Layer 1 \n",
    "encoder_lstm1 = LSTM(lstm_dim,return_sequences=True,return_state=True) \n",
    "encoder_output1, state_h1, state_c1 = encoder_lstm1(encoder_embed) \n",
    "\n",
    "#LSTM Layer 2 \n",
    "encoder_lstm2 = LSTM(lstm_dim,return_sequences=True,return_state=True) \n",
    "encoder_output2, state_h2, state_c2 = encoder_lstm2(encoder_output1) \n",
    "\n",
    "#LSTM Layer 3 \n",
    "encoder_lstm3 = LSTM(lstm_dim, return_state=True, return_sequences=True) \n",
    "encoder_outputs, state_h, state_c= encoder_lstm3(encoder_output2) \n",
    "\n",
    "# Set up the decoder. Defining input to take any shape\n",
    "decoder_inputs = Input(shape=(None,)) \n",
    "# embedding the output variable\n",
    "decoder_embed_layer = Embedding(y_vocab_size, embed_dim,trainable=True) \n",
    "decoder_embed = decoder_embed_layer(decoder_inputs) \n",
    "\n",
    "#LSTM using encoder_states as initial state\n",
    "decoder_lstm = LSTM(lstm_dim, return_sequences=True, return_state=True) \n",
    "decoder_outputs, decoder_fwd_state, decoder_back_state = decoder_lstm(decoder_embed,initial_state=[state_h, state_c]) \n",
    "\n",
    "#Attention Layer - implementation referenced from internet\n",
    "# Referenced Papers - https://arxiv.org/abs/1508.04025.pdf, https://arxiv.org/pdf/1409.0473.pdf\n",
    "attn_layer = AttentionLayer(name='attention_layer') \n",
    "attn_out, attn_states = attn_layer([encoder_outputs, decoder_outputs]) \n",
    "\n",
    "# Concat attention output and decoder LSTM output \n",
    "decoder_concat_input = Concatenate(axis=-1, name='concat_layer')([decoder_outputs, attn_out])\n",
    "\n",
    "#Dense layer\n",
    "decoder_dense = TimeDistributed(Dense(y_vocab_size, activation='softmax')) \n",
    "decoder_outputs = decoder_dense(decoder_concat_input) \n",
    "\n",
    "# Define the model\n",
    "model = Model([encoder_inputs, decoder_inputs], decoder_outputs) \n",
    "model.summary()"
   ]
  },
  {
   "cell_type": "markdown",
   "metadata": {},
   "source": [
    "Compiling the model and fitting the model. The model was trained on google colab and weights from saved model will be loaded into the notebook.     \n",
    "\n",
    "Callbacks:   \n",
    "Defining callbacks for the model, Early Stopping as regularizer to prevent overfitting of the model.   \n",
    "ReduceLROnPlateau for reducing learning rate when model hits bottleneck and the chosen metric stops improving.  \n",
    "ModelCheckpoint to save the weights corresponding to the best model fit."
   ]
  },
  {
   "cell_type": "code",
   "execution_count": 17,
   "metadata": {},
   "outputs": [],
   "source": [
    "# compiling model and using rmsprop optimizer and sparse categorical cross-entropy as it converts integer sequence to a one-hot vector\n",
    "model.compile(optimizer='rmsprop', loss='sparse_categorical_crossentropy')\n",
    "\n",
    "# adding regularization in terms of early stopping and storing weights for best model\n",
    "callbcks = [EarlyStopping(monitor='val_loss', mode='min', verbose=1, patience=10),\n",
    "            ReduceLROnPlateau(factor=0.1, patience=3, min_lr=0.00001, verbose=1),\n",
    "            ModelCheckpoint(dat_dir+'model-rnn-summary.h5', monitor = 'loss', verbose=1, save_best_only=True, save_weights_only=True)]\n",
    "\n",
    "# fitting model on reviews_data\n",
    "results = model.fit([x_train,y_train[:,:-1]], y_train.reshape(y_train.shape[0],y_train.shape[1], 1)[:,1:] ,epochs=10,callbacks=callbcks, batch_size=32, validation_data=([x_val,y_val[:,:-1]], y_val.reshape(y_val.shape[0],y_val.shape[1], 1)[:,1:]))\n"
   ]
  },
  {
   "cell_type": "markdown",
   "metadata": {},
   "source": [
    "Loading the weights of the model trained on Google Colab."
   ]
  },
  {
   "cell_type": "code",
   "execution_count": 18,
   "metadata": {},
   "outputs": [],
   "source": [
    "# loading weights and the model fit results:\n",
    "\n",
    "model.load_weights(dat_dir+'model-rnn-summary-gpu.h5')\n",
    "\n",
    "# model results\n",
    "results = np.load(dat_dir+'rnn-model_results.npy', allow_pickle='TRUE').item()"
   ]
  },
  {
   "cell_type": "markdown",
   "metadata": {},
   "source": [
    "Visualizing the model fit results:"
   ]
  },
  {
   "cell_type": "code",
   "execution_count": 19,
   "metadata": {},
   "outputs": [
    {
     "data": {
      "image/png": "[encoded data removed]",
      "text/plain": [
       "<Figure size 560x400 with 1 Axes>"
      ]
     },
     "metadata": {},
     "output_type": "display_data"
    }
   ],
   "source": [
    "# vizualizing the model fit results\n",
    "import matplotlib.pyplot as plt\n",
    "\n",
    "# extracting loss and accuracy from results\n",
    "train_loss=results['loss']\n",
    "val_loss=results['val_loss']\n",
    "# setting x axis as per number of epochs\n",
    "xc=range(len(results['loss']))\n",
    "\n",
    "plt.figure(figsize=(7,5))\n",
    "plt.plot(xc,train_loss)\n",
    "plt.plot(xc,val_loss)\n",
    "plt.xlabel('Number of Epochs')\n",
    "plt.ylabel('Loss')\n",
    "plt.title('Train Loss vs Val Loss')\n",
    "plt.grid(True)\n",
    "plt.legend(['Train','Val'])\n",
    "plt.style.use(['classic'])\n",
    "\n",
    "plt.show()"
   ]
  },
  {
   "cell_type": "markdown",
   "metadata": {},
   "source": [
    "Building the inference model which will be used to predict the summary for new text:"
   ]
  },
  {
   "cell_type": "code",
   "execution_count": 22,
   "metadata": {},
   "outputs": [],
   "source": [
    "# building dictionaries to generate words back from numerical reference\n",
    "reverse_target_word_index = y_tokenizer.index_word \n",
    "reverse_source_word_index = x_tokenizer.index_word \n",
    "target_word_index = y_tokenizer.word_index\n",
    "\n",
    "# we need encoder and decoder model for  prediction, therefore building the encoder and decoder model separately\n",
    "# encoder inference for prediction\n",
    "encoder_model = Model(inputs=encoder_inputs,outputs=[encoder_outputs, state_h, state_c])\n",
    "\n",
    "# decoder inference for prediction\n",
    "# Below objects will hold the states of the previous time step\n",
    "decoder_state_input_h = Input(shape=(lstm_dim,))\n",
    "decoder_state_input_c = Input(shape=(lstm_dim,))\n",
    "decoder_hidden_state_input = Input(shape=(max_len_text,lstm_dim))\n",
    "\n",
    "# Get the embeddings of the decoder sequence\n",
    "decoder_embed2= decoder_embed_layer(decoder_inputs)\n",
    "\n",
    "# To predict the next word in the sequence, set the initial states to the states from the previous time step\n",
    "decoder_outputs2, state_h2, state_c2 = decoder_lstm(decoder_embed2, initial_state=[decoder_state_input_h, decoder_state_input_c])\n",
    "\n",
    "#attention inference\n",
    "attn_out_inf, attn_states_inf = attn_layer([decoder_hidden_state_input, decoder_outputs2])\n",
    "decoder_inf_concat = Concatenate(axis=-1, name='concat')([decoder_outputs2, attn_out_inf])\n",
    "\n",
    "# A dense softmax layer to generate prob distribution over the target vocabulary\n",
    "decoder_outputs2 = decoder_dense(decoder_inf_concat)\n",
    "\n",
    "# Final decoder model\n",
    "decoder_model = Model(\n",
    "[decoder_inputs] + [decoder_hidden_state_input,decoder_state_input_h, decoder_state_input_c],\n",
    "[decoder_outputs2] + [state_h2, state_c2])"
   ]
  },
  {
   "cell_type": "markdown",
   "metadata": {},
   "source": [
    "Defining a function that uses the above encoder and decoder model to generate summary:"
   ]
  },
  {
   "cell_type": "code",
   "execution_count": 23,
   "metadata": {},
   "outputs": [],
   "source": [
    "def decode_sequence(input_seq):\n",
    "    # Encode the input as state vectors.\n",
    "    encode_out, encode_h, encode_c = encoder_model.predict(input_seq)\n",
    "\n",
    "    # Generate empty target sequence of length 1.\n",
    "    target_seq = np.zeros((1,1))\n",
    "\n",
    "    # Chose the 'start' word as the first word of the target sequence\n",
    "    target_seq[0, 0] = target_word_index['start']\n",
    "\n",
    "    stop_condition = False\n",
    "    decoded_sentence = ''\n",
    "    while not stop_condition:\n",
    "        output_tokens, decode_h, decode_c = decoder_model.predict([target_seq] + [encode_out, encode_h, encode_c])\n",
    "\n",
    "        # Sample a token\n",
    "        sampled_token_index = np.argmax(output_tokens[0, -1, :])\n",
    "        sampled_token = reverse_target_word_index[sampled_token_index]\n",
    "\n",
    "        if(sampled_token!='end'):\n",
    "            decoded_sentence += ' '+sampled_token\n",
    "\n",
    "        # Exit condition: either hit max length or find stop word.\n",
    "        if (sampled_token == 'end' or len(decoded_sentence.split()) >= (max_len_summary-1)):\n",
    "            stop_condition = True\n",
    "\n",
    "        # Update the target sequence (of length 1)\n",
    "        target_seq[0, 0] = sampled_token_index\n",
    "\n",
    "        # Update internal states\n",
    "        encode_h, encode_c = decode_h, decode_c\n",
    "\n",
    "    return decoded_sentence"
   ]
  },
  {
   "cell_type": "markdown",
   "metadata": {},
   "source": [
    "The following functions help convert sequence of numbers to text:"
   ]
  },
  {
   "cell_type": "code",
   "execution_count": 24,
   "metadata": {},
   "outputs": [],
   "source": [
    "# defining function for convert integer sequence to summary\n",
    "def seq2summary(input_seq):\n",
    "    updated_string=''\n",
    "    for i in input_seq:\n",
    "      if((i!=0 and i!=target_word_index['start']) and i!=target_word_index['end']):\n",
    "        updated_string=updated_string+reverse_target_word_index[i]+' '\n",
    "    return updated_string\n",
    "\n",
    "# defining function for convert integer sequence to text\n",
    "def seq2text(input_seq):\n",
    "    updated_string=''\n",
    "    for i in input_seq:\n",
    "      if(i!=0):\n",
    "        updated_string=updated_string+reverse_source_word_index[i]+' '\n",
    "    return updated_string"
   ]
  },
  {
   "cell_type": "markdown",
   "metadata": {},
   "source": [
    "Trained Model in Action:   \n",
    "\n",
    "Generating summary predictions and comparing with actual summary available for 15 data rows of validation data"
   ]
  },
  {
   "cell_type": "code",
   "execution_count": 28,
   "metadata": {
    "scrolled": false
   },
   "outputs": [
    {
     "name": "stdout",
     "output_type": "stream",
     "text": [
      "Review:\t love hot sauces rediculous thought like good hot sauce would good tacos nachos etc nice heat stuff stupid hot bought three pack regreted moment tried standard insanity sauce cannot even tolerate dashes tacos good \n",
      "Original summary:\t seriously \n",
      "Predicted summary:\t  hot hot hot\n",
      "\n",
      "\n",
      "\n",
      "Review:\t whenever want add bit cream soup sauce never seem around use cream often enough even buy smallest container stuff kept long time really add creamy flavor glad found \n",
      "Original summary:\t this stuff is great \n",
      "Predicted summary:\t  great sauce\n",
      "\n",
      "\n",
      "\n",
      "Review:\t glad opportunity purchase last boxes amazing tea local herb stores tell sold anymore cannot sold unless ground powder form hope buy overseas batch runs \n",
      "Original summary:\t last of the best \n",
      "Predicted summary:\t  great tea\n",
      "\n",
      "\n",
      "\n",
      "Review:\t tried peanut butter creme version first impression fudge coating looker rather soft would messy left warm day tasting overwhelming sweetness predominant aside sweetness flavor butterfinger reeses slight crunchiness cookie portion also made texturally similar butterfinger chocolate flavor present drowned sugar fudge coating seems chocolate flavored actual chocolate excess sweetness cookies makes hard eat one good thing considering nutritional information overall cookies much sweet taste like candy bar \n",
      "Original summary:\t too sweet \n",
      "Predicted summary:\t  pretty darn good\n",
      "\n",
      "\n",
      "\n",
      "Review:\t love product kids drink instead sports drinks play soccer much healthier twice received amazon times product poorly packaged times padding cartons got crushed shipping cartons leak amazon responded well shipping replacement cartons still padding leaks would like continue buy amazon figure package cartons get crushed \n",
      "Original summary:\t poorly packaged \n",
      "Predicted summary:\t  great product bad shipping\n",
      "\n",
      "\n",
      "\n",
      "Review:\t delicious coffee ever drink hot cold drink cold litle cream needs booze \n",
      "Original summary:\t as good as it gets \n",
      "Predicted summary:\t  delicious\n",
      "\n",
      "\n",
      "\n",
      "Review:\t things work well trouble leave one machine overnight sticks hard get otherwise great product \n",
      "Original summary:\t pretty cool \n",
      "Predicted summary:\t  works well\n",
      "\n",
      "\n",
      "\n",
      "Review:\t received product described minus one boxes received three four boxes cereal beware inept service \n",
      "Original summary:\t pack of four \n",
      "Predicted summary:\t  beware\n",
      "\n",
      "\n",
      "\n",
      "Review:\t love chili mix like another reviewer said earlier use little half chili powder packet provided also use rotel instead tomato sauce water comes great give try \n",
      "Original summary:\t great chili mix \n",
      "Predicted summary:\t  great chili\n",
      "\n",
      "\n",
      "\n",
      "Review:\t tablet like teaspoon sugar sweetness need sweeten gallon gallon something adding pellets way easier opening bunch little packets even spooning sweetener pour pellets bottle cap count need whatever reason well kool aid brand soft drink mix mix well wyler flavor aid tastes find grain pellets sweetens quart soft drink packet well really feel like still getting aftertaste try pellets two packets splenda always add either nectasweet splenda prefer sweeter adding directly already chilled beverages give pellets minute dissolve stir well \n",
      "Original summary:\t nectasweet grain sugar substitute pellets \n",
      "Predicted summary:\t  tastes like splenda\n",
      "\n",
      "\n",
      "\n",
      "Review:\t healthy snacks furkids love size penny give per day feel guilty glucosamine added bonus little bodies get much pee worries either great product love three dog bakery pups give paws \n",
      "Original summary:\t these are the perfect size for several day \n",
      "Predicted summary:\t  awesome\n",
      "\n",
      "\n",
      "\n",
      "Review:\t first try seriously though properly made recipe never back whatever using last major advantage versatility easily adapt recipe requiring cocoa adding sweetener one bag main ingredient smoothies desserts hot chocolate made taste far made two things numerous times good raspberry banana cacao powder smoothies rounded teaspoon cacao powder cup raspberries banana almond milk water hot chocolate rounded teaspoons cacao powder water hemp milk raw honey tastei recommend omitting water use thinner milk almond milk hemp milk pretty sweet hence water \n",
      "Original summary:\t try this it might become staple \n",
      "Predicted summary:\t  oh wow\n",
      "\n",
      "\n",
      "\n",
      "Review:\t little spendy perfect special gift bacon lovers family cannot get enough spread little toast fried egg good breakfast \n",
      "Original summary:\t bacon crack \n",
      "Predicted summary:\t  great\n",
      "\n",
      "\n",
      "\n",
      "Review:\t great product much less expensive buying coffee shop one serving pays cup chai latte coffee shop bought subscription get shipment every six months excellent deal love flavor chai \n",
      "Original summary:\t caffe vita enchanted chai spiced tea latte \n",
      "Predicted summary:\t  great product\n",
      "\n",
      "\n",
      "\n",
      "Review:\t ordered november opened cans far inspite product content label six contained almost pinto beans kidney beans absolutely garbanzo beans assume pinto beans cheapest three garbanzo expensive disappointed westbrae purchase product \n",
      "Original summary:\t content not as described \n",
      "Predicted summary:\t  disappointed\n",
      "\n",
      "\n",
      "\n"
     ]
    }
   ],
   "source": [
    "for i in range(15):\n",
    "  print(\"Review:\\t\",seq2text(x_val[i]))\n",
    "  print(\"Original summary:\\t\",seq2summary(y_val[i]))\n",
    "  print(\"Predicted summary:\\t\",decode_sequence(x_val[i].reshape(1,max_len_text)))\n",
    "  print(\"\\n\\n\")"
   ]
  },
  {
   "cell_type": "markdown",
   "metadata": {},
   "source": [
    "### Conclusion:\n",
    "\n",
    "The neural network performs decently on the validation dataset after training for 10 epochs on Google Colab. The model can be trained for more epochs to furthur increase the accuracy as we continued to improve accuracy after each epoch. Considering the complex nature of the problem to generate an abstractive summary i.e. it formulates new words as summary rather than just selecting parts of the text (which is the case of textRank algorithm similar to PageRank algorithm), it can be considered that model does fairly good with limited training and dataset volume. The attention mechanism also helped in generating better summary as it adds context to the decoder part of the model to generate meaningful predictions.\n",
    "\n",
    "On reading the results from the above predictions, the predicted summary mostly makes sense. We do observe that in very few observations, the true summary of the text blocks needs to be updated to better represent the data and that will help in further improve the model results."
   ]
  }
 ],
 "metadata": {
  "kernelspec": {
   "display_name": "Python 3",
   "language": "python",
   "name": "python3"
  },
  "language_info": {
   "codemirror_mode": {
    "name": "ipython",
    "version": 3
   },
   "file_extension": ".py",
   "mimetype": "text/x-python",
   "name": "python",
   "nbconvert_exporter": "python",
   "pygments_lexer": "ipython3",
   "version": "3.7.4"
  }
 },
 "nbformat": 4,
 "nbformat_minor": 2
}
